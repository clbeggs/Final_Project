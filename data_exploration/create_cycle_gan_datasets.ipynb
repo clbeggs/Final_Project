{
 "metadata": {
  "language_info": {
   "codemirror_mode": {
    "name": "ipython",
    "version": 3
   },
   "file_extension": ".py",
   "mimetype": "text/x-python",
   "name": "python",
   "nbconvert_exporter": "python",
   "pygments_lexer": "ipython3",
   "version": "3.6.6-final"
  },
  "orig_nbformat": 2,
  "kernelspec": {
   "name": "python3",
   "display_name": "Python 3"
  }
 },
 "nbformat": 4,
 "nbformat_minor": 2,
 "cells": [
  {
   "source": [
    "This script is used to format data from the \"sketchy\" dataset [link](http://sketchy.eye.gatech.edu/) into a format for CycleGan from [this](https://github.com/junyanz/pytorch-CycleGAN-and-pix2pix) repo."
   ],
   "cell_type": "markdown",
   "metadata": {}
  },
  {
   "source": [
    "## Format of Sketchy dataset\n",
    "There is a README that contains information about how the data is organized. The contents of this file is pasted below:"
   ],
   "cell_type": "markdown",
   "metadata": {}
  },
  {
   "source": [
    "Sketchy Database - Rendered sketches and augmented photos\n",
    "\n",
    "Contents:\n",
    "  photo - a directory containing two different renderings of \n",
    "    all photographs contained within the Sketchy Database\n",
    "  sketch - a directory containing six different renderings of\n",
    "    all sketches contained within the Sketchy Database\n",
    "\n",
    "Photographs\n",
    "    All photographs are rendered in JPEG format. Resizing is\n",
    "  performed via OpenCV Imgproc (typically area interpolation\n",
    "  for full images renderings and cubic for bounding box\n",
    "  renderings).\n",
    "\n",
    "  Augmentations (directories within 'photo')\n",
    "  \n",
    "    tx_000000000000 : image is non-uniformly scaled to 256x256\n",
    "    tx_000100000000 : image bounding box scaled to 256x256 with\n",
    "                      an additional +10% on each edge; note \n",
    "                      that due to position within the image,\n",
    "                      sometimes the object is not centered\n",
    "\n",
    "Sketches\n",
    "    All sketches are rendered in PNG format. The original\n",
    "  sketch canvas size is 640x480. In rendering the sketch to a\n",
    "  256x256 canvas, we take the original photo aspect ratio\n",
    "  as well as the original sketch canvas aspect ratio into\n",
    "  account. We render sketches such that they are consistent\n",
    "  with the transformation made to the image (non-uniform\n",
    "  scale to 256x256). In order to ensure sketches remain fully\n",
    "  on the canvas, some minor adjustments to scale and/or \n",
    "  location are occasionally necessary.\n",
    "    All sketches are rendered using custom OpenGL code, with\n",
    "  a PNG encoding provided by Java's ImageIO API.\n",
    "\n",
    "  Augmentations (directories within 'sketch')\n",
    "\n",
    "    tx_000000000000 : sketch canvas is rendered to 256x256\n",
    "                      such that it undergoes the same\n",
    "                      scaling as the paired photo\n",
    "    tx_000100000000 : sketch is centered and uniformly scaled \n",
    "                      such that its greatest dimension (x or y) \n",
    "                      fills 78% of the canvas (roughly the same\n",
    "                      as in Eitz 2012 sketch data set)\n",
    "    tx_000000000010 : sketch is translated such that it is \n",
    "                      centered on the object bounding box\n",
    "    tx_000000000110 : sketch is centered on bounding box and\n",
    "                      is uniformly scaled such that one dimension\n",
    "                      (x or y; whichever requires the least amount\n",
    "                      of scaling) fits within the bounding box\n",
    "    tx_000000001010 : sketch is centered on bounding box and\n",
    "                      is uniformly scaled such that one dimension\n",
    "                      (x or y; whichever requires the most amount\n",
    "                      of scaling) fits within the bounding box\n",
    "    tx_000000001110 : sketch is centered on bounding box and\n",
    "                      is non-uniformly scaled such that it \n",
    "                      completely fits within the bounding box\n",
    "\n",
    "\n"
   ],
   "cell_type": "markdown",
   "metadata": {}
  },
  {
   "source": [
    "As a first pass, let's use unaugmented sketches and images"
   ],
   "cell_type": "markdown",
   "metadata": {}
  },
  {
   "cell_type": "code",
   "execution_count": 2,
   "metadata": {},
   "outputs": [],
   "source": [
    "import os\n",
    "from shutil import copyfile"
   ]
  },
  {
   "cell_type": "code",
   "execution_count": 3,
   "metadata": {},
   "outputs": [],
   "source": [
    "dataset_root = dataset_root = '../data/sketchy/256x256/'\n",
    "photos_root = dataset_root + 'photo/'\n",
    "sketches_root = dataset_root + 'sketch/'\n",
    "target_class = 'tree'"
   ]
  },
  {
   "cell_type": "code",
   "execution_count": 4,
   "metadata": {},
   "outputs": [],
   "source": [
    "photos_dir = photos_root + 'tx_000000000000/' + target_class + '/'\n",
    "sketches_dir = sketches_root + 'tx_000000000000/' + target_class + '/'"
   ]
  },
  {
   "cell_type": "code",
   "execution_count": 5,
   "metadata": {},
   "outputs": [
    {
     "output_type": "stream",
     "name": "stdout",
     "text": [
      "100 photos\n533 sketches\n"
     ]
    }
   ],
   "source": [
    "print('%s photos'%len(os.listdir(photos_dir)))\n",
    "print('%s sketches'%len(os.listdir(sketches_dir)))"
   ]
  },
  {
   "cell_type": "code",
   "execution_count": 6,
   "metadata": {},
   "outputs": [],
   "source": [
    "dataset_name = 'sketchy-%s'%target_class\n",
    "target_root = '../../pytorch-CycleGAN-and-pix2pix/datasets/%s/'%dataset_name\n",
    "target_photos = target_root + 'trainA/'\n",
    "target_sketches = target_root + 'trainB/'"
   ]
  },
  {
   "cell_type": "code",
   "execution_count": 50,
   "metadata": {},
   "outputs": [],
   "source": [
    "if not os.path.exists(target_root):\n",
    "    os.mkdir(target_root)\n",
    "if not os.path.exists(target_photos):\n",
    "    os.mkdir(target_photos)\n",
    "if not os.path.exists(target_sketches):\n",
    "    os.mkdir(target_sketches)"
   ]
  },
  {
   "cell_type": "code",
   "execution_count": 51,
   "metadata": {},
   "outputs": [],
   "source": [
    "for filename in os.listdir(photos_dir):\n",
    "    copyfile(photos_dir + filename, target_photos + filename)\n",
    "for filename in os.listdir(sketches_dir):\n",
    "    copyfile(sketches_dir + filename, target_sketches + filename)"
   ]
  },
  {
   "source": [
    "# Using sketches from Google QuickDraw dataset"
   ],
   "cell_type": "markdown",
   "metadata": {}
  },
  {
   "cell_type": "code",
   "execution_count": 7,
   "metadata": {},
   "outputs": [],
   "source": [
    "import numpy as np\n",
    "import matplotlib.pyplot as plt\n",
    "import cv2 as cv\n",
    "import random"
   ]
  },
  {
   "cell_type": "code",
   "execution_count": 8,
   "metadata": {},
   "outputs": [],
   "source": [
    "trees = np.load('../data/quickdraw/full_numpy_bitmap_tree.npy')"
   ]
  },
  {
   "cell_type": "code",
   "execution_count": 9,
   "metadata": {},
   "outputs": [
    {
     "output_type": "execute_result",
     "data": {
      "text/plain": [
       "(144721, 784)"
      ]
     },
     "metadata": {},
     "execution_count": 9
    }
   ],
   "source": [
    "trees.shape"
   ]
  },
  {
   "cell_type": "code",
   "execution_count": 10,
   "metadata": {},
   "outputs": [
    {
     "output_type": "execute_result",
     "data": {
      "text/plain": [
       "<matplotlib.image.AxesImage at 0x1dd1f502048>"
      ]
     },
     "metadata": {},
     "execution_count": 10
    },
    {
     "output_type": "display_data",
     "data": {
      "text/plain": "<Figure size 432x288 with 1 Axes>",
      "image/svg+xml": "<?xml version=\"1.0\" encoding=\"utf-8\" standalone=\"no\"?>\r\n<!DOCTYPE svg PUBLIC \"-//W3C//DTD SVG 1.1//EN\"\r\n  \"http://www.w3.org/Graphics/SVG/1.1/DTD/svg11.dtd\">\r\n<!-- Created with matplotlib (http://matplotlib.org/) -->\r\n<svg height=\"252.018125pt\" version=\"1.1\" viewBox=\"0 0 262.799687 252.018125\" width=\"262.799687pt\" xmlns=\"http://www.w3.org/2000/svg\" xmlns:xlink=\"http://www.w3.org/1999/xlink\">\r\n <defs>\r\n  <style type=\"text/css\">\r\n*{stroke-linecap:butt;stroke-linejoin:round;}\r\n  </style>\r\n </defs>\r\n <g id=\"figure_1\">\r\n  <g id=\"patch_1\">\r\n   <path d=\"M 0 252.018125 \r\nL 262.799687 252.018125 \r\nL 262.799687 0 \r\nL 0 0 \r\nz\r\n\" style=\"fill:none;\"/>\r\n  </g>\r\n  <g id=\"axes_1\">\r\n   <g id=\"patch_2\">\r\n    <path d=\"M 33.2875 228.14 \r\nL 250.7275 228.14 \r\nL 250.7275 10.7 \r\nL 33.2875 10.7 \r\nz\r\n\" style=\"fill:#ffffff;\"/>\r\n   </g>\r\n   <g clip-path=\"url(#p7aefdebe44)\">\r\n    <image height=\"218\" id=\"imagec62f66ab65\" transform=\"scale(1 -1)translate(0 -218)\" width=\"218\" x=\"33.2875\" xlink:href=\"data:image/png;base64,\r\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\" y=\"-10.14\"/>\r\n   </g>\r\n   <g id=\"matplotlib.axis_1\">\r\n    <g id=\"xtick_1\">\r\n     <g id=\"line2d_1\">\r\n      <defs>\r\n       <path d=\"M 0 0 \r\nL 0 3.5 \r\n\" id=\"m8c1986109a\" style=\"stroke:#000000;stroke-width:0.8;\"/>\r\n      </defs>\r\n      <g>\r\n       <use style=\"stroke:#000000;stroke-width:0.8;\" x=\"33.712188\" xlink:href=\"#m8c1986109a\" y=\"228.14\"/>\r\n      </g>\r\n     </g>\r\n     <g id=\"text_1\">\r\n      <!-- 0 -->\r\n      <defs>\r\n       <path d=\"M 31.78125 66.40625 \r\nQ 24.171875 66.40625 20.328125 58.90625 \r\nQ 16.5 51.421875 16.5 36.375 \r\nQ 16.5 21.390625 20.328125 13.890625 \r\nQ 24.171875 6.390625 31.78125 6.390625 \r\nQ 39.453125 6.390625 43.28125 13.890625 \r\nQ 47.125 21.390625 47.125 36.375 \r\nQ 47.125 51.421875 43.28125 58.90625 \r\nQ 39.453125 66.40625 31.78125 66.40625 \r\nz\r\nM 31.78125 74.21875 \r\nQ 44.046875 74.21875 50.515625 64.515625 \r\nQ 56.984375 54.828125 56.984375 36.375 \r\nQ 56.984375 17.96875 50.515625 8.265625 \r\nQ 44.046875 -1.421875 31.78125 -1.421875 \r\nQ 19.53125 -1.421875 13.0625 8.265625 \r\nQ 6.59375 17.96875 6.59375 36.375 \r\nQ 6.59375 54.828125 13.0625 64.515625 \r\nQ 19.53125 74.21875 31.78125 74.21875 \r\nz\r\n\" id=\"DejaVuSans-30\"/>\r\n      </defs>\r\n      <g transform=\"translate(30.530938 242.738437)scale(0.1 -0.1)\">\r\n       <use xlink:href=\"#DejaVuSans-30\"/>\r\n      </g>\r\n     </g>\r\n    </g>\r\n    <g id=\"xtick_2\">\r\n     <g id=\"line2d_2\">\r\n      <g>\r\n       <use style=\"stroke:#000000;stroke-width:0.8;\" x=\"76.180937\" xlink:href=\"#m8c1986109a\" y=\"228.14\"/>\r\n      </g>\r\n     </g>\r\n     <g id=\"text_2\">\r\n      <!-- 50 -->\r\n      <defs>\r\n       <path d=\"M 10.796875 72.90625 \r\nL 49.515625 72.90625 \r\nL 49.515625 64.59375 \r\nL 19.828125 64.59375 \r\nL 19.828125 46.734375 \r\nQ 21.96875 47.46875 24.109375 47.828125 \r\nQ 26.265625 48.1875 28.421875 48.1875 \r\nQ 40.625 48.1875 47.75 41.5 \r\nQ 54.890625 34.8125 54.890625 23.390625 \r\nQ 54.890625 11.625 47.5625 5.09375 \r\nQ 40.234375 -1.421875 26.90625 -1.421875 \r\nQ 22.3125 -1.421875 17.546875 -0.640625 \r\nQ 12.796875 0.140625 7.71875 1.703125 \r\nL 7.71875 11.625 \r\nQ 12.109375 9.234375 16.796875 8.0625 \r\nQ 21.484375 6.890625 26.703125 6.890625 \r\nQ 35.15625 6.890625 40.078125 11.328125 \r\nQ 45.015625 15.765625 45.015625 23.390625 \r\nQ 45.015625 31 40.078125 35.4375 \r\nQ 35.15625 39.890625 26.703125 39.890625 \r\nQ 22.75 39.890625 18.8125 39.015625 \r\nQ 14.890625 38.140625 10.796875 36.28125 \r\nz\r\n\" id=\"DejaVuSans-35\"/>\r\n      </defs>\r\n      <g transform=\"translate(69.818438 242.738437)scale(0.1 -0.1)\">\r\n       <use xlink:href=\"#DejaVuSans-35\"/>\r\n       <use x=\"63.623047\" xlink:href=\"#DejaVuSans-30\"/>\r\n      </g>\r\n     </g>\r\n    </g>\r\n    <g id=\"xtick_3\">\r\n     <g id=\"line2d_3\">\r\n      <g>\r\n       <use style=\"stroke:#000000;stroke-width:0.8;\" x=\"118.649687\" xlink:href=\"#m8c1986109a\" y=\"228.14\"/>\r\n      </g>\r\n     </g>\r\n     <g id=\"text_3\">\r\n      <!-- 100 -->\r\n      <defs>\r\n       <path d=\"M 12.40625 8.296875 \r\nL 28.515625 8.296875 \r\nL 28.515625 63.921875 \r\nL 10.984375 60.40625 \r\nL 10.984375 69.390625 \r\nL 28.421875 72.90625 \r\nL 38.28125 72.90625 \r\nL 38.28125 8.296875 \r\nL 54.390625 8.296875 \r\nL 54.390625 0 \r\nL 12.40625 0 \r\nz\r\n\" id=\"DejaVuSans-31\"/>\r\n      </defs>\r\n      <g transform=\"translate(109.105937 242.738437)scale(0.1 -0.1)\">\r\n       <use xlink:href=\"#DejaVuSans-31\"/>\r\n       <use x=\"63.623047\" xlink:href=\"#DejaVuSans-30\"/>\r\n       <use x=\"127.246094\" xlink:href=\"#DejaVuSans-30\"/>\r\n      </g>\r\n     </g>\r\n    </g>\r\n    <g id=\"xtick_4\">\r\n     <g id=\"line2d_4\">\r\n      <g>\r\n       <use style=\"stroke:#000000;stroke-width:0.8;\" x=\"161.118437\" xlink:href=\"#m8c1986109a\" y=\"228.14\"/>\r\n      </g>\r\n     </g>\r\n     <g id=\"text_4\">\r\n      <!-- 150 -->\r\n      <g transform=\"translate(151.574688 242.738437)scale(0.1 -0.1)\">\r\n       <use xlink:href=\"#DejaVuSans-31\"/>\r\n       <use x=\"63.623047\" xlink:href=\"#DejaVuSans-35\"/>\r\n       <use x=\"127.246094\" xlink:href=\"#DejaVuSans-30\"/>\r\n      </g>\r\n     </g>\r\n    </g>\r\n    <g id=\"xtick_5\">\r\n     <g id=\"line2d_5\">\r\n      <g>\r\n       <use style=\"stroke:#000000;stroke-width:0.8;\" x=\"203.587187\" xlink:href=\"#m8c1986109a\" y=\"228.14\"/>\r\n      </g>\r\n     </g>\r\n     <g id=\"text_5\">\r\n      <!-- 200 -->\r\n      <defs>\r\n       <path d=\"M 19.1875 8.296875 \r\nL 53.609375 8.296875 \r\nL 53.609375 0 \r\nL 7.328125 0 \r\nL 7.328125 8.296875 \r\nQ 12.9375 14.109375 22.625 23.890625 \r\nQ 32.328125 33.6875 34.8125 36.53125 \r\nQ 39.546875 41.84375 41.421875 45.53125 \r\nQ 43.3125 49.21875 43.3125 52.78125 \r\nQ 43.3125 58.59375 39.234375 62.25 \r\nQ 35.15625 65.921875 28.609375 65.921875 \r\nQ 23.96875 65.921875 18.8125 64.3125 \r\nQ 13.671875 62.703125 7.8125 59.421875 \r\nL 7.8125 69.390625 \r\nQ 13.765625 71.78125 18.9375 73 \r\nQ 24.125 74.21875 28.421875 74.21875 \r\nQ 39.75 74.21875 46.484375 68.546875 \r\nQ 53.21875 62.890625 53.21875 53.421875 \r\nQ 53.21875 48.921875 51.53125 44.890625 \r\nQ 49.859375 40.875 45.40625 35.40625 \r\nQ 44.1875 33.984375 37.640625 27.21875 \r\nQ 31.109375 20.453125 19.1875 8.296875 \r\nz\r\n\" id=\"DejaVuSans-32\"/>\r\n      </defs>\r\n      <g transform=\"translate(194.043438 242.738437)scale(0.1 -0.1)\">\r\n       <use xlink:href=\"#DejaVuSans-32\"/>\r\n       <use x=\"63.623047\" xlink:href=\"#DejaVuSans-30\"/>\r\n       <use x=\"127.246094\" xlink:href=\"#DejaVuSans-30\"/>\r\n      </g>\r\n     </g>\r\n    </g>\r\n    <g id=\"xtick_6\">\r\n     <g id=\"line2d_6\">\r\n      <g>\r\n       <use style=\"stroke:#000000;stroke-width:0.8;\" x=\"246.055937\" xlink:href=\"#m8c1986109a\" y=\"228.14\"/>\r\n      </g>\r\n     </g>\r\n     <g id=\"text_6\">\r\n      <!-- 250 -->\r\n      <g transform=\"translate(236.512188 242.738437)scale(0.1 -0.1)\">\r\n       <use xlink:href=\"#DejaVuSans-32\"/>\r\n       <use x=\"63.623047\" xlink:href=\"#DejaVuSans-35\"/>\r\n       <use x=\"127.246094\" xlink:href=\"#DejaVuSans-30\"/>\r\n      </g>\r\n     </g>\r\n    </g>\r\n   </g>\r\n   <g id=\"matplotlib.axis_2\">\r\n    <g id=\"ytick_1\">\r\n     <g id=\"line2d_7\">\r\n      <defs>\r\n       <path d=\"M 0 0 \r\nL -3.5 0 \r\n\" id=\"me02268a67a\" style=\"stroke:#000000;stroke-width:0.8;\"/>\r\n      </defs>\r\n      <g>\r\n       <use style=\"stroke:#000000;stroke-width:0.8;\" x=\"33.2875\" xlink:href=\"#me02268a67a\" y=\"11.124687\"/>\r\n      </g>\r\n     </g>\r\n     <g id=\"text_7\">\r\n      <!-- 0 -->\r\n      <g transform=\"translate(19.925 14.923906)scale(0.1 -0.1)\">\r\n       <use xlink:href=\"#DejaVuSans-30\"/>\r\n      </g>\r\n     </g>\r\n    </g>\r\n    <g id=\"ytick_2\">\r\n     <g id=\"line2d_8\">\r\n      <g>\r\n       <use style=\"stroke:#000000;stroke-width:0.8;\" x=\"33.2875\" xlink:href=\"#me02268a67a\" y=\"53.593437\"/>\r\n      </g>\r\n     </g>\r\n     <g id=\"text_8\">\r\n      <!-- 50 -->\r\n      <g transform=\"translate(13.5625 57.392656)scale(0.1 -0.1)\">\r\n       <use xlink:href=\"#DejaVuSans-35\"/>\r\n       <use x=\"63.623047\" xlink:href=\"#DejaVuSans-30\"/>\r\n      </g>\r\n     </g>\r\n    </g>\r\n    <g id=\"ytick_3\">\r\n     <g id=\"line2d_9\">\r\n      <g>\r\n       <use style=\"stroke:#000000;stroke-width:0.8;\" x=\"33.2875\" xlink:href=\"#me02268a67a\" y=\"96.062187\"/>\r\n      </g>\r\n     </g>\r\n     <g id=\"text_9\">\r\n      <!-- 100 -->\r\n      <g transform=\"translate(7.2 99.861406)scale(0.1 -0.1)\">\r\n       <use xlink:href=\"#DejaVuSans-31\"/>\r\n       <use x=\"63.623047\" xlink:href=\"#DejaVuSans-30\"/>\r\n       <use x=\"127.246094\" xlink:href=\"#DejaVuSans-30\"/>\r\n      </g>\r\n     </g>\r\n    </g>\r\n    <g id=\"ytick_4\">\r\n     <g id=\"line2d_10\">\r\n      <g>\r\n       <use style=\"stroke:#000000;stroke-width:0.8;\" x=\"33.2875\" xlink:href=\"#me02268a67a\" y=\"138.530937\"/>\r\n      </g>\r\n     </g>\r\n     <g id=\"text_10\">\r\n      <!-- 150 -->\r\n      <g transform=\"translate(7.2 142.330156)scale(0.1 -0.1)\">\r\n       <use xlink:href=\"#DejaVuSans-31\"/>\r\n       <use x=\"63.623047\" xlink:href=\"#DejaVuSans-35\"/>\r\n       <use x=\"127.246094\" xlink:href=\"#DejaVuSans-30\"/>\r\n      </g>\r\n     </g>\r\n    </g>\r\n    <g id=\"ytick_5\">\r\n     <g id=\"line2d_11\">\r\n      <g>\r\n       <use style=\"stroke:#000000;stroke-width:0.8;\" x=\"33.2875\" xlink:href=\"#me02268a67a\" y=\"180.999687\"/>\r\n      </g>\r\n     </g>\r\n     <g id=\"text_11\">\r\n      <!-- 200 -->\r\n      <g transform=\"translate(7.2 184.798906)scale(0.1 -0.1)\">\r\n       <use xlink:href=\"#DejaVuSans-32\"/>\r\n       <use x=\"63.623047\" xlink:href=\"#DejaVuSans-30\"/>\r\n       <use x=\"127.246094\" xlink:href=\"#DejaVuSans-30\"/>\r\n      </g>\r\n     </g>\r\n    </g>\r\n    <g id=\"ytick_6\">\r\n     <g id=\"line2d_12\">\r\n      <g>\r\n       <use style=\"stroke:#000000;stroke-width:0.8;\" x=\"33.2875\" xlink:href=\"#me02268a67a\" y=\"223.468437\"/>\r\n      </g>\r\n     </g>\r\n     <g id=\"text_12\">\r\n      <!-- 250 -->\r\n      <g transform=\"translate(7.2 227.267656)scale(0.1 -0.1)\">\r\n       <use xlink:href=\"#DejaVuSans-32\"/>\r\n       <use x=\"63.623047\" xlink:href=\"#DejaVuSans-35\"/>\r\n       <use x=\"127.246094\" xlink:href=\"#DejaVuSans-30\"/>\r\n      </g>\r\n     </g>\r\n    </g>\r\n   </g>\r\n   <g id=\"patch_3\">\r\n    <path d=\"M 33.2875 228.14 \r\nL 33.2875 10.7 \r\n\" style=\"fill:none;stroke:#000000;stroke-linecap:square;stroke-linejoin:miter;stroke-width:0.8;\"/>\r\n   </g>\r\n   <g id=\"patch_4\">\r\n    <path d=\"M 250.7275 228.14 \r\nL 250.7275 10.7 \r\n\" style=\"fill:none;stroke:#000000;stroke-linecap:square;stroke-linejoin:miter;stroke-width:0.8;\"/>\r\n   </g>\r\n   <g id=\"patch_5\">\r\n    <path d=\"M 33.2875 228.14 \r\nL 250.7275 228.14 \r\n\" style=\"fill:none;stroke:#000000;stroke-linecap:square;stroke-linejoin:miter;stroke-width:0.8;\"/>\r\n   </g>\r\n   <g id=\"patch_6\">\r\n    <path d=\"M 33.2875 10.7 \r\nL 250.7275 10.7 \r\n\" style=\"fill:none;stroke:#000000;stroke-linecap:square;stroke-linejoin:miter;stroke-width:0.8;\"/>\r\n   </g>\r\n  </g>\r\n </g>\r\n <defs>\r\n  <clipPath id=\"p7aefdebe44\">\r\n   <rect height=\"217.44\" width=\"217.44\" x=\"33.2875\" y=\"10.7\"/>\r\n  </clipPath>\r\n </defs>\r\n</svg>\r\n",
      "image/png": "[encoded data removed]"
     },
     "metadata": {
      "needs_background": "light"
     }
    }
   ],
   "source": [
    "example_tree = cv.resize(trees[456].reshape((28, 28)), (256, 256), interpolation = cv.INTER_AREA)\n",
    "plt.imshow(example_tree, cmap='gray_r')"
   ]
  },
  {
   "cell_type": "code",
   "execution_count": 11,
   "metadata": {},
   "outputs": [],
   "source": [
    "all_trees = []\n",
    "indexes = random.sample(range(0, trees.shape[0]), 500)\n",
    "for i in indexes:\n",
    "    all_trees.append(cv.resize(trees[i].reshape((28, 28)), (256, 256), interpolation = cv.INTER_AREA))"
   ]
  },
  {
   "cell_type": "code",
   "execution_count": 12,
   "metadata": {},
   "outputs": [],
   "source": [
    "dataset_name = 'quickdraw-%s'%target_class\n",
    "target_root = '../../pytorch-CycleGAN-and-pix2pix/datasets/%s/'%dataset_name\n",
    "target_photos = target_root + 'trainA/'\n",
    "target_sketches = target_root + 'trainB/'"
   ]
  },
  {
   "cell_type": "code",
   "execution_count": 20,
   "metadata": {},
   "outputs": [],
   "source": [
    "if not os.path.exists(target_root):\n",
    "    os.mkdir(target_root)\n",
    "if not os.path.exists(target_photos):\n",
    "    os.mkdir(target_photos)\n",
    "if not os.path.exists(target_sketches):\n",
    "    os.mkdir(target_sketches)"
   ]
  },
  {
   "cell_type": "code",
   "execution_count": 17,
   "metadata": {},
   "outputs": [],
   "source": [
    "photos_dir = photos_root + 'imagenet/%s/'%target_class"
   ]
  },
  {
   "cell_type": "code",
   "execution_count": 18,
   "metadata": {},
   "outputs": [
    {
     "output_type": "execute_result",
     "data": {
      "text/plain": [
       "'../data/sketchy/256x256/photo/imagenet/tree/'"
      ]
     },
     "metadata": {},
     "execution_count": 18
    }
   ],
   "source": [
    "photos_dir"
   ]
  },
  {
   "cell_type": "code",
   "execution_count": 21,
   "metadata": {},
   "outputs": [],
   "source": [
    "for filename in os.listdir(photos_dir):\n",
    "    copyfile(photos_dir + filename, target_photos + filename)\n",
    "for i, tree in enumerate(all_trees):\n",
    "    cv.imwrite(target_sketches + 'quick_draw_tree_%s.jpg'%i, 255 - tree)"
   ]
  },
  {
   "cell_type": "code",
   "execution_count": null,
   "metadata": {},
   "outputs": [],
   "source": []
  }
 ]
}