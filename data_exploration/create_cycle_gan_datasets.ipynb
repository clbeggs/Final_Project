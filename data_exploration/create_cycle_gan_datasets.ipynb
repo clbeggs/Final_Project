{
 "metadata": {
  "language_info": {
   "codemirror_mode": {
    "name": "ipython",
    "version": 3
   },
   "file_extension": ".py",
   "mimetype": "text/x-python",
   "name": "python",
   "nbconvert_exporter": "python",
   "pygments_lexer": "ipython3",
   "version": "3.6.6-final"
  },
  "orig_nbformat": 2,
  "kernelspec": {
   "name": "python3",
   "display_name": "Python 3"
  }
 },
 "nbformat": 4,
 "nbformat_minor": 2,
 "cells": [
  {
   "source": [
    "This script is used to format data from the \"sketchy\" dataset [link](http://sketchy.eye.gatech.edu/) into a format for CycleGan from [this](https://github.com/junyanz/pytorch-CycleGAN-and-pix2pix) repo."
   ],
   "cell_type": "markdown",
   "metadata": {}
  },
  {
   "source": [
    "## Format of Sketchy dataset\n",
    "There is a README that contains information about how the data is organized. The contents of this file is pasted below:"
   ],
   "cell_type": "markdown",
   "metadata": {}
  },
  {
   "source": [
    "Sketchy Database - Rendered sketches and augmented photos\n",
    "\n",
    "Contents:\n",
    "  photo - a directory containing two different renderings of \n",
    "    all photographs contained within the Sketchy Database\n",
    "  sketch - a directory containing six different renderings of\n",
    "    all sketches contained within the Sketchy Database\n",
    "\n",
    "Photographs\n",
    "    All photographs are rendered in JPEG format. Resizing is\n",
    "  performed via OpenCV Imgproc (typically area interpolation\n",
    "  for full images renderings and cubic for bounding box\n",
    "  renderings).\n",
    "\n",
    "  Augmentations (directories within 'photo')\n",
    "  \n",
    "    tx_000000000000 : image is non-uniformly scaled to 256x256\n",
    "    tx_000100000000 : image bounding box scaled to 256x256 with\n",
    "                      an additional +10% on each edge; note \n",
    "                      that due to position within the image,\n",
    "                      sometimes the object is not centered\n",
    "\n",
    "Sketches\n",
    "    All sketches are rendered in PNG format. The original\n",
    "  sketch canvas size is 640x480. In rendering the sketch to a\n",
    "  256x256 canvas, we take the original photo aspect ratio\n",
    "  as well as the original sketch canvas aspect ratio into\n",
    "  account. We render sketches such that they are consistent\n",
    "  with the transformation made to the image (non-uniform\n",
    "  scale to 256x256). In order to ensure sketches remain fully\n",
    "  on the canvas, some minor adjustments to scale and/or \n",
    "  location are occasionally necessary.\n",
    "    All sketches are rendered using custom OpenGL code, with\n",
    "  a PNG encoding provided by Java's ImageIO API.\n",
    "\n",
    "  Augmentations (directories within 'sketch')\n",
    "\n",
    "    tx_000000000000 : sketch canvas is rendered to 256x256\n",
    "                      such that it undergoes the same\n",
    "                      scaling as the paired photo\n",
    "    tx_000100000000 : sketch is centered and uniformly scaled \n",
    "                      such that its greatest dimension (x or y) \n",
    "                      fills 78% of the canvas (roughly the same\n",
    "                      as in Eitz 2012 sketch data set)\n",
    "    tx_000000000010 : sketch is translated such that it is \n",
    "                      centered on the object bounding box\n",
    "    tx_000000000110 : sketch is centered on bounding box and\n",
    "                      is uniformly scaled such that one dimension\n",
    "                      (x or y; whichever requires the least amount\n",
    "                      of scaling) fits within the bounding box\n",
    "    tx_000000001010 : sketch is centered on bounding box and\n",
    "                      is uniformly scaled such that one dimension\n",
    "                      (x or y; whichever requires the most amount\n",
    "                      of scaling) fits within the bounding box\n",
    "    tx_000000001110 : sketch is centered on bounding box and\n",
    "                      is non-uniformly scaled such that it \n",
    "                      completely fits within the bounding box\n",
    "\n",
    "\n"
   ],
   "cell_type": "markdown",
   "metadata": {}
  },
  {
   "source": [
    "As a first pass, let's use unaugmented sketches and images"
   ],
   "cell_type": "markdown",
   "metadata": {}
  },
  {
   "cell_type": "code",
   "execution_count": 1,
   "metadata": {},
   "outputs": [],
   "source": [
    "import os\n",
    "from shutil import copyfile"
   ]
  },
  {
   "cell_type": "code",
   "execution_count": 6,
   "metadata": {},
   "outputs": [],
   "source": [
    "dataset_root = dataset_root = '../data/sketchy/256x256/'\n",
    "photos_root = dataset_root + 'photo/'\n",
    "sketches_root = dataset_root + 'sketch/'\n",
    "target_class = 'dog'"
   ]
  },
  {
   "cell_type": "code",
   "execution_count": 7,
   "metadata": {},
   "outputs": [],
   "source": [
    "photos_dir = photos_root + 'tx_000000000000/' + target_class + '/'\n",
    "sketches_dir = sketches_root + 'tx_000000000000/' + target_class + '/'"
   ]
  },
  {
   "cell_type": "code",
   "execution_count": 8,
   "metadata": {},
   "outputs": [
    {
     "output_type": "stream",
     "name": "stdout",
     "text": [
      "100 photos\n692 sketches\n"
     ]
    }
   ],
   "source": [
    "print('%s photos'%len(os.listdir(photos_dir)))\n",
    "print('%s sketches'%len(os.listdir(sketches_dir)))"
   ]
  },
  {
   "cell_type": "code",
   "execution_count": 9,
   "metadata": {},
   "outputs": [],
   "source": [
    "dataset_name = 'sketchy-%s'%target_class\n",
    "target_root = '../../pytorch-CycleGAN-and-pix2pix/datasets/%s/'%dataset_name\n",
    "target_photos = target_root + 'trainA/'\n",
    "target_sketches = target_root + 'trainB/'"
   ]
  },
  {
   "cell_type": "code",
   "execution_count": 50,
   "metadata": {},
   "outputs": [],
   "source": [
    "if not os.path.exists(target_root):\n",
    "    os.mkdir(target_root)\n",
    "if not os.path.exists(target_photos):\n",
    "    os.mkdir(target_photos)\n",
    "if not os.path.exists(target_sketches):\n",
    "    os.mkdir(target_sketches)"
   ]
  },
  {
   "cell_type": "code",
   "execution_count": 51,
   "metadata": {},
   "outputs": [],
   "source": [
    "for filename in os.listdir(photos_dir):\n",
    "    copyfile(photos_dir + filename, target_photos + filename)\n",
    "for filename in os.listdir(sketches_dir):\n",
    "    copyfile(sketches_dir + filename, target_sketches + filename)"
   ]
  },
  {
   "source": [
    "# Using sketches from Google QuickDraw dataset"
   ],
   "cell_type": "markdown",
   "metadata": {}
  },
  {
   "cell_type": "code",
   "execution_count": 10,
   "metadata": {},
   "outputs": [],
   "source": [
    "import numpy as np\n",
    "import matplotlib.pyplot as plt\n",
    "import cv2 as cv\n",
    "import random"
   ]
  },
  {
   "cell_type": "code",
   "execution_count": 11,
   "metadata": {},
   "outputs": [],
   "source": [
    "sketches = np.load('../data/quickdraw/full_numpy_bitmap_%s.npy'%target_class)"
   ]
  },
  {
   "cell_type": "code",
   "execution_count": 13,
   "metadata": {},
   "outputs": [
    {
     "output_type": "execute_result",
     "data": {
      "text/plain": [
       "(152159, 784)"
      ]
     },
     "metadata": {},
     "execution_count": 13
    }
   ],
   "source": [
    "sketches.shape"
   ]
  },
  {
   "cell_type": "code",
   "execution_count": 14,
   "metadata": {},
   "outputs": [
    {
     "output_type": "execute_result",
     "data": {
      "text/plain": [
       "<matplotlib.image.AxesImage at 0x20e57c565f8>"
      ]
     },
     "metadata": {},
     "execution_count": 14
    },
    {
     "output_type": "display_data",
     "data": {
      "text/plain": "<Figure size 432x288 with 1 Axes>",
      "image/svg+xml": "<?xml version=\"1.0\" encoding=\"utf-8\" standalone=\"no\"?>\r\n<!DOCTYPE svg PUBLIC \"-//W3C//DTD SVG 1.1//EN\"\r\n  \"http://www.w3.org/Graphics/SVG/1.1/DTD/svg11.dtd\">\r\n<!-- Created with matplotlib (http://matplotlib.org/) -->\r\n<svg height=\"252.018125pt\" version=\"1.1\" viewBox=\"0 0 262.799687 252.018125\" width=\"262.799687pt\" xmlns=\"http://www.w3.org/2000/svg\" xmlns:xlink=\"http://www.w3.org/1999/xlink\">\r\n <defs>\r\n  <style type=\"text/css\">\r\n*{stroke-linecap:butt;stroke-linejoin:round;}\r\n  </style>\r\n </defs>\r\n <g id=\"figure_1\">\r\n  <g id=\"patch_1\">\r\n   <path d=\"M 0 252.018125 \r\nL 262.799687 252.018125 \r\nL 262.799687 0 \r\nL 0 0 \r\nz\r\n\" style=\"fill:none;\"/>\r\n  </g>\r\n  <g id=\"axes_1\">\r\n   <g id=\"patch_2\">\r\n    <path d=\"M 33.2875 228.14 \r\nL 250.7275 228.14 \r\nL 250.7275 10.7 \r\nL 33.2875 10.7 \r\nz\r\n\" style=\"fill:#ffffff;\"/>\r\n   </g>\r\n   <g clip-path=\"url(#p5aeb132372)\">\r\n    <image height=\"218\" id=\"image5061b7adab\" transform=\"scale(1 -1)translate(0 -218)\" width=\"218\" x=\"33.2875\" xlink:href=\"data:image/png;base64,\r\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\" y=\"-10.14\"/>\r\n   </g>\r\n   <g id=\"matplotlib.axis_1\">\r\n    <g id=\"xtick_1\">\r\n     <g id=\"line2d_1\">\r\n      <defs>\r\n       <path d=\"M 0 0 \r\nL 0 3.5 \r\n\" id=\"md23e0f4ce7\" style=\"stroke:#000000;stroke-width:0.8;\"/>\r\n      </defs>\r\n      <g>\r\n       <use style=\"stroke:#000000;stroke-width:0.8;\" x=\"33.712188\" xlink:href=\"#md23e0f4ce7\" y=\"228.14\"/>\r\n      </g>\r\n     </g>\r\n     <g id=\"text_1\">\r\n      <!-- 0 -->\r\n      <defs>\r\n       <path d=\"M 31.78125 66.40625 \r\nQ 24.171875 66.40625 20.328125 58.90625 \r\nQ 16.5 51.421875 16.5 36.375 \r\nQ 16.5 21.390625 20.328125 13.890625 \r\nQ 24.171875 6.390625 31.78125 6.390625 \r\nQ 39.453125 6.390625 43.28125 13.890625 \r\nQ 47.125 21.390625 47.125 36.375 \r\nQ 47.125 51.421875 43.28125 58.90625 \r\nQ 39.453125 66.40625 31.78125 66.40625 \r\nz\r\nM 31.78125 74.21875 \r\nQ 44.046875 74.21875 50.515625 64.515625 \r\nQ 56.984375 54.828125 56.984375 36.375 \r\nQ 56.984375 17.96875 50.515625 8.265625 \r\nQ 44.046875 -1.421875 31.78125 -1.421875 \r\nQ 19.53125 -1.421875 13.0625 8.265625 \r\nQ 6.59375 17.96875 6.59375 36.375 \r\nQ 6.59375 54.828125 13.0625 64.515625 \r\nQ 19.53125 74.21875 31.78125 74.21875 \r\nz\r\n\" id=\"DejaVuSans-30\"/>\r\n      </defs>\r\n      <g transform=\"translate(30.530938 242.738437)scale(0.1 -0.1)\">\r\n       <use xlink:href=\"#DejaVuSans-30\"/>\r\n      </g>\r\n     </g>\r\n    </g>\r\n    <g id=\"xtick_2\">\r\n     <g id=\"line2d_2\">\r\n      <g>\r\n       <use style=\"stroke:#000000;stroke-width:0.8;\" x=\"76.180937\" xlink:href=\"#md23e0f4ce7\" y=\"228.14\"/>\r\n      </g>\r\n     </g>\r\n     <g id=\"text_2\">\r\n      <!-- 50 -->\r\n      <defs>\r\n       <path d=\"M 10.796875 72.90625 \r\nL 49.515625 72.90625 \r\nL 49.515625 64.59375 \r\nL 19.828125 64.59375 \r\nL 19.828125 46.734375 \r\nQ 21.96875 47.46875 24.109375 47.828125 \r\nQ 26.265625 48.1875 28.421875 48.1875 \r\nQ 40.625 48.1875 47.75 41.5 \r\nQ 54.890625 34.8125 54.890625 23.390625 \r\nQ 54.890625 11.625 47.5625 5.09375 \r\nQ 40.234375 -1.421875 26.90625 -1.421875 \r\nQ 22.3125 -1.421875 17.546875 -0.640625 \r\nQ 12.796875 0.140625 7.71875 1.703125 \r\nL 7.71875 11.625 \r\nQ 12.109375 9.234375 16.796875 8.0625 \r\nQ 21.484375 6.890625 26.703125 6.890625 \r\nQ 35.15625 6.890625 40.078125 11.328125 \r\nQ 45.015625 15.765625 45.015625 23.390625 \r\nQ 45.015625 31 40.078125 35.4375 \r\nQ 35.15625 39.890625 26.703125 39.890625 \r\nQ 22.75 39.890625 18.8125 39.015625 \r\nQ 14.890625 38.140625 10.796875 36.28125 \r\nz\r\n\" id=\"DejaVuSans-35\"/>\r\n      </defs>\r\n      <g transform=\"translate(69.818438 242.738437)scale(0.1 -0.1)\">\r\n       <use xlink:href=\"#DejaVuSans-35\"/>\r\n       <use x=\"63.623047\" xlink:href=\"#DejaVuSans-30\"/>\r\n      </g>\r\n     </g>\r\n    </g>\r\n    <g id=\"xtick_3\">\r\n     <g id=\"line2d_3\">\r\n      <g>\r\n       <use style=\"stroke:#000000;stroke-width:0.8;\" x=\"118.649687\" xlink:href=\"#md23e0f4ce7\" y=\"228.14\"/>\r\n      </g>\r\n     </g>\r\n     <g id=\"text_3\">\r\n      <!-- 100 -->\r\n      <defs>\r\n       <path d=\"M 12.40625 8.296875 \r\nL 28.515625 8.296875 \r\nL 28.515625 63.921875 \r\nL 10.984375 60.40625 \r\nL 10.984375 69.390625 \r\nL 28.421875 72.90625 \r\nL 38.28125 72.90625 \r\nL 38.28125 8.296875 \r\nL 54.390625 8.296875 \r\nL 54.390625 0 \r\nL 12.40625 0 \r\nz\r\n\" id=\"DejaVuSans-31\"/>\r\n      </defs>\r\n      <g transform=\"translate(109.105937 242.738437)scale(0.1 -0.1)\">\r\n       <use xlink:href=\"#DejaVuSans-31\"/>\r\n       <use x=\"63.623047\" xlink:href=\"#DejaVuSans-30\"/>\r\n       <use x=\"127.246094\" xlink:href=\"#DejaVuSans-30\"/>\r\n      </g>\r\n     </g>\r\n    </g>\r\n    <g id=\"xtick_4\">\r\n     <g id=\"line2d_4\">\r\n      <g>\r\n       <use style=\"stroke:#000000;stroke-width:0.8;\" x=\"161.118437\" xlink:href=\"#md23e0f4ce7\" y=\"228.14\"/>\r\n      </g>\r\n     </g>\r\n     <g id=\"text_4\">\r\n      <!-- 150 -->\r\n      <g transform=\"translate(151.574688 242.738437)scale(0.1 -0.1)\">\r\n       <use xlink:href=\"#DejaVuSans-31\"/>\r\n       <use x=\"63.623047\" xlink:href=\"#DejaVuSans-35\"/>\r\n       <use x=\"127.246094\" xlink:href=\"#DejaVuSans-30\"/>\r\n      </g>\r\n     </g>\r\n    </g>\r\n    <g id=\"xtick_5\">\r\n     <g id=\"line2d_5\">\r\n      <g>\r\n       <use style=\"stroke:#000000;stroke-width:0.8;\" x=\"203.587187\" xlink:href=\"#md23e0f4ce7\" y=\"228.14\"/>\r\n      </g>\r\n     </g>\r\n     <g id=\"text_5\">\r\n      <!-- 200 -->\r\n      <defs>\r\n       <path d=\"M 19.1875 8.296875 \r\nL 53.609375 8.296875 \r\nL 53.609375 0 \r\nL 7.328125 0 \r\nL 7.328125 8.296875 \r\nQ 12.9375 14.109375 22.625 23.890625 \r\nQ 32.328125 33.6875 34.8125 36.53125 \r\nQ 39.546875 41.84375 41.421875 45.53125 \r\nQ 43.3125 49.21875 43.3125 52.78125 \r\nQ 43.3125 58.59375 39.234375 62.25 \r\nQ 35.15625 65.921875 28.609375 65.921875 \r\nQ 23.96875 65.921875 18.8125 64.3125 \r\nQ 13.671875 62.703125 7.8125 59.421875 \r\nL 7.8125 69.390625 \r\nQ 13.765625 71.78125 18.9375 73 \r\nQ 24.125 74.21875 28.421875 74.21875 \r\nQ 39.75 74.21875 46.484375 68.546875 \r\nQ 53.21875 62.890625 53.21875 53.421875 \r\nQ 53.21875 48.921875 51.53125 44.890625 \r\nQ 49.859375 40.875 45.40625 35.40625 \r\nQ 44.1875 33.984375 37.640625 27.21875 \r\nQ 31.109375 20.453125 19.1875 8.296875 \r\nz\r\n\" id=\"DejaVuSans-32\"/>\r\n      </defs>\r\n      <g transform=\"translate(194.043438 242.738437)scale(0.1 -0.1)\">\r\n       <use xlink:href=\"#DejaVuSans-32\"/>\r\n       <use x=\"63.623047\" xlink:href=\"#DejaVuSans-30\"/>\r\n       <use x=\"127.246094\" xlink:href=\"#DejaVuSans-30\"/>\r\n      </g>\r\n     </g>\r\n    </g>\r\n    <g id=\"xtick_6\">\r\n     <g id=\"line2d_6\">\r\n      <g>\r\n       <use style=\"stroke:#000000;stroke-width:0.8;\" x=\"246.055937\" xlink:href=\"#md23e0f4ce7\" y=\"228.14\"/>\r\n      </g>\r\n     </g>\r\n     <g id=\"text_6\">\r\n      <!-- 250 -->\r\n      <g transform=\"translate(236.512188 242.738437)scale(0.1 -0.1)\">\r\n       <use xlink:href=\"#DejaVuSans-32\"/>\r\n       <use x=\"63.623047\" xlink:href=\"#DejaVuSans-35\"/>\r\n       <use x=\"127.246094\" xlink:href=\"#DejaVuSans-30\"/>\r\n      </g>\r\n     </g>\r\n    </g>\r\n   </g>\r\n   <g id=\"matplotlib.axis_2\">\r\n    <g id=\"ytick_1\">\r\n     <g id=\"line2d_7\">\r\n      <defs>\r\n       <path d=\"M 0 0 \r\nL -3.5 0 \r\n\" id=\"me07cd63219\" style=\"stroke:#000000;stroke-width:0.8;\"/>\r\n      </defs>\r\n      <g>\r\n       <use style=\"stroke:#000000;stroke-width:0.8;\" x=\"33.2875\" xlink:href=\"#me07cd63219\" y=\"11.124687\"/>\r\n      </g>\r\n     </g>\r\n     <g id=\"text_7\">\r\n      <!-- 0 -->\r\n      <g transform=\"translate(19.925 14.923906)scale(0.1 -0.1)\">\r\n       <use xlink:href=\"#DejaVuSans-30\"/>\r\n      </g>\r\n     </g>\r\n    </g>\r\n    <g id=\"ytick_2\">\r\n     <g id=\"line2d_8\">\r\n      <g>\r\n       <use style=\"stroke:#000000;stroke-width:0.8;\" x=\"33.2875\" xlink:href=\"#me07cd63219\" y=\"53.593437\"/>\r\n      </g>\r\n     </g>\r\n     <g id=\"text_8\">\r\n      <!-- 50 -->\r\n      <g transform=\"translate(13.5625 57.392656)scale(0.1 -0.1)\">\r\n       <use xlink:href=\"#DejaVuSans-35\"/>\r\n       <use x=\"63.623047\" xlink:href=\"#DejaVuSans-30\"/>\r\n      </g>\r\n     </g>\r\n    </g>\r\n    <g id=\"ytick_3\">\r\n     <g id=\"line2d_9\">\r\n      <g>\r\n       <use style=\"stroke:#000000;stroke-width:0.8;\" x=\"33.2875\" xlink:href=\"#me07cd63219\" y=\"96.062187\"/>\r\n      </g>\r\n     </g>\r\n     <g id=\"text_9\">\r\n      <!-- 100 -->\r\n      <g transform=\"translate(7.2 99.861406)scale(0.1 -0.1)\">\r\n       <use xlink:href=\"#DejaVuSans-31\"/>\r\n       <use x=\"63.623047\" xlink:href=\"#DejaVuSans-30\"/>\r\n       <use x=\"127.246094\" xlink:href=\"#DejaVuSans-30\"/>\r\n      </g>\r\n     </g>\r\n    </g>\r\n    <g id=\"ytick_4\">\r\n     <g id=\"line2d_10\">\r\n      <g>\r\n       <use style=\"stroke:#000000;stroke-width:0.8;\" x=\"33.2875\" xlink:href=\"#me07cd63219\" y=\"138.530937\"/>\r\n      </g>\r\n     </g>\r\n     <g id=\"text_10\">\r\n      <!-- 150 -->\r\n      <g transform=\"translate(7.2 142.330156)scale(0.1 -0.1)\">\r\n       <use xlink:href=\"#DejaVuSans-31\"/>\r\n       <use x=\"63.623047\" xlink:href=\"#DejaVuSans-35\"/>\r\n       <use x=\"127.246094\" xlink:href=\"#DejaVuSans-30\"/>\r\n      </g>\r\n     </g>\r\n    </g>\r\n    <g id=\"ytick_5\">\r\n     <g id=\"line2d_11\">\r\n      <g>\r\n       <use style=\"stroke:#000000;stroke-width:0.8;\" x=\"33.2875\" xlink:href=\"#me07cd63219\" y=\"180.999687\"/>\r\n      </g>\r\n     </g>\r\n     <g id=\"text_11\">\r\n      <!-- 200 -->\r\n      <g transform=\"translate(7.2 184.798906)scale(0.1 -0.1)\">\r\n       <use xlink:href=\"#DejaVuSans-32\"/>\r\n       <use x=\"63.623047\" xlink:href=\"#DejaVuSans-30\"/>\r\n       <use x=\"127.246094\" xlink:href=\"#DejaVuSans-30\"/>\r\n      </g>\r\n     </g>\r\n    </g>\r\n    <g id=\"ytick_6\">\r\n     <g id=\"line2d_12\">\r\n      <g>\r\n       <use style=\"stroke:#000000;stroke-width:0.8;\" x=\"33.2875\" xlink:href=\"#me07cd63219\" y=\"223.468437\"/>\r\n      </g>\r\n     </g>\r\n     <g id=\"text_12\">\r\n      <!-- 250 -->\r\n      <g transform=\"translate(7.2 227.267656)scale(0.1 -0.1)\">\r\n       <use xlink:href=\"#DejaVuSans-32\"/>\r\n       <use x=\"63.623047\" xlink:href=\"#DejaVuSans-35\"/>\r\n       <use x=\"127.246094\" xlink:href=\"#DejaVuSans-30\"/>\r\n      </g>\r\n     </g>\r\n    </g>\r\n   </g>\r\n   <g id=\"patch_3\">\r\n    <path d=\"M 33.2875 228.14 \r\nL 33.2875 10.7 \r\n\" style=\"fill:none;stroke:#000000;stroke-linecap:square;stroke-linejoin:miter;stroke-width:0.8;\"/>\r\n   </g>\r\n   <g id=\"patch_4\">\r\n    <path d=\"M 250.7275 228.14 \r\nL 250.7275 10.7 \r\n\" style=\"fill:none;stroke:#000000;stroke-linecap:square;stroke-linejoin:miter;stroke-width:0.8;\"/>\r\n   </g>\r\n   <g id=\"patch_5\">\r\n    <path d=\"M 33.2875 228.14 \r\nL 250.7275 228.14 \r\n\" style=\"fill:none;stroke:#000000;stroke-linecap:square;stroke-linejoin:miter;stroke-width:0.8;\"/>\r\n   </g>\r\n   <g id=\"patch_6\">\r\n    <path d=\"M 33.2875 10.7 \r\nL 250.7275 10.7 \r\n\" style=\"fill:none;stroke:#000000;stroke-linecap:square;stroke-linejoin:miter;stroke-width:0.8;\"/>\r\n   </g>\r\n  </g>\r\n </g>\r\n <defs>\r\n  <clipPath id=\"p5aeb132372\">\r\n   <rect height=\"217.44\" width=\"217.44\" x=\"33.2875\" y=\"10.7\"/>\r\n  </clipPath>\r\n </defs>\r\n</svg>\r\n",
      "image/png": "[encoded data removed]"
     },
     "metadata": {
      "needs_background": "light"
     }
    }
   ],
   "source": [
    "example_sketch = cv.resize(sketches[456].reshape((28, 28)), (256, 256), interpolation = cv.INTER_AREA)\n",
    "plt.imshow(example_sketch, cmap='gray_r')"
   ]
  },
  {
   "cell_type": "code",
   "execution_count": 22,
   "metadata": {},
   "outputs": [],
   "source": [
    "all_sketches = []\n",
    "indexes = random.sample(range(0, sketches.shape[0]), 1000)\n",
    "for i in indexes:\n",
    "    all_sketches.append(cv.resize(sketches[i].reshape((28, 28)), (256, 256), interpolation = cv.INTER_AREA))"
   ]
  },
  {
   "cell_type": "code",
   "execution_count": 16,
   "metadata": {},
   "outputs": [],
   "source": [
    "dataset_name = 'quickdraw-%s'%target_class\n",
    "target_root = '../../pytorch-CycleGAN-and-pix2pix/datasets/%s/'%dataset_name\n",
    "target_photos = target_root + 'trainA/'\n",
    "target_sketches = target_root + 'trainB/'"
   ]
  },
  {
   "cell_type": "code",
   "execution_count": 17,
   "metadata": {},
   "outputs": [],
   "source": [
    "if not os.path.exists(target_root):\n",
    "    os.mkdir(target_root)\n",
    "if not os.path.exists(target_photos):\n",
    "    os.mkdir(target_photos)\n",
    "if not os.path.exists(target_sketches):\n",
    "    os.mkdir(target_sketches)"
   ]
  },
  {
   "cell_type": "code",
   "execution_count": 18,
   "metadata": {},
   "outputs": [
    {
     "output_type": "execute_result",
     "data": {
      "text/plain": [
       "'../../pytorch-CycleGAN-and-pix2pix/datasets/quickdraw-dog/trainA/'"
      ]
     },
     "metadata": {},
     "execution_count": 18
    }
   ],
   "source": [
    "target_photos"
   ]
  },
  {
   "cell_type": "code",
   "execution_count": 21,
   "metadata": {},
   "outputs": [],
   "source": [
    "photos_root = '../data/stanford-dogs/images/'\n",
    "all_dirs = os.listdir(photos_root)\n",
    "for name in all_dirs:\n",
    "    dir_name = photos_root + name + '/'\n",
    "    all_files = os.listdir(dir_name)\n",
    "    indexes = random.sample(range(0, len(all_files)), 10)\n",
    "    for idx in indexes:\n",
    "        filename = all_files[idx]\n",
    "        copyfile(dir_name + filename, target_photos + filename)"
   ]
  },
  {
   "cell_type": "code",
   "execution_count": 24,
   "metadata": {},
   "outputs": [],
   "source": [
    "# for filename in os.listdir(photos_dir):\n",
    "#     copyfile(photos_dir + filename, target_photos + filename)\n",
    "for i, sketch in enumerate(all_sketches):\n",
    "    cv.imwrite(target_sketches + 'quickdraw_dog_%s.jpg'%i, 255 - sketch)"
   ]
  },
  {
   "cell_type": "code",
   "execution_count": 26,
   "metadata": {},
   "outputs": [],
   "source": [
    "# sketchy_trees = os.listdir(sketches_dir)\n",
    "# for index in random.sample(range(0, len(sketchy_trees)), 200):\n",
    "#     filename = sketchy_trees[index]\n",
    "#     copyfile(sketches_dir + filename, target_sketches + filename)"
   ]
  },
  {
   "cell_type": "code",
   "execution_count": null,
   "metadata": {},
   "outputs": [],
   "source": []
  }
 ]
}